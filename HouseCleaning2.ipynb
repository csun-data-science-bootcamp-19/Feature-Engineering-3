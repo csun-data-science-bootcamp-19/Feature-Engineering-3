{
 "cells": [
  {
   "cell_type": "code",
   "execution_count": 1,
   "metadata": {},
   "outputs": [
    {
     "data": {
      "text/plain": [
       "(2919, 79)"
      ]
     },
     "execution_count": 1,
     "metadata": {},
     "output_type": "execute_result"
    }
   ],
   "source": [
    "import ds_utils\n",
    "import pandas as pd\n",
    "import numpy as np\n",
    "import seaborn as sns\n",
    "import matplotlib.pyplot as plt\n",
    "\n",
    "testdata = pd.read_csv('test.csv')\n",
    "df = pd.read_csv('train.csv')\n",
    "\n",
    "y = df['SalePrice']\n",
    "df = df.drop(columns=['SalePrice'])\n",
    "\n",
    "train_num = len(df)\n",
    "df = pd.concat((df, pd.read_csv('test.csv')))\n",
    "\n",
    "# drop Id\n",
    "df = df.drop(columns=['Id'])\n",
    "df.shape"
   ]
  },
  {
   "cell_type": "code",
   "execution_count": 2,
   "metadata": {},
   "outputs": [
    {
     "name": "stdout",
     "output_type": "stream",
     "text": [
      "[('PoolQC', 0.997), ('MiscFeature', 0.964), ('Alley', 0.932), ('Fence', 0.804), ('FireplaceQu', 0.486), ('LotFrontage', 0.166), ('GarageType', 0.054), ('GarageYrBlt', 0.054), ('GarageFinish', 0.054), ('GarageQual', 0.054), ('GarageCond', 0.054), ('BsmtQual', 0.028), ('BsmtCond', 0.028), ('BsmtExposure', 0.028), ('BsmtFinType1', 0.027), ('BsmtFinType2', 0.027), ('MasVnrType', 0.008), ('MasVnrArea', 0.008), ('MSZoning', 0.001), ('Utilities', 0.001), ('BsmtFullBath', 0.001), ('BsmtHalfBath', 0.001), ('Functional', 0.001)]\n",
      "MSSubClass       False\n",
      "MSZoning          True\n",
      "LotFrontage       True\n",
      "LotArea          False\n",
      "Street           False\n",
      "Alley             True\n",
      "LotShape         False\n",
      "LandContour      False\n",
      "Utilities         True\n",
      "LotConfig        False\n",
      "LandSlope        False\n",
      "Neighborhood     False\n",
      "Condition1       False\n",
      "Condition2       False\n",
      "BldgType         False\n",
      "HouseStyle       False\n",
      "OverallQual      False\n",
      "OverallCond      False\n",
      "YearBuilt        False\n",
      "YearRemodAdd     False\n",
      "RoofStyle        False\n",
      "RoofMatl         False\n",
      "Exterior1st       True\n",
      "Exterior2nd       True\n",
      "MasVnrType        True\n",
      "MasVnrArea        True\n",
      "ExterQual        False\n",
      "ExterCond        False\n",
      "Foundation       False\n",
      "BsmtQual          True\n",
      "                 ...  \n",
      "HalfBath         False\n",
      "BedroomAbvGr     False\n",
      "KitchenAbvGr     False\n",
      "KitchenQual       True\n",
      "TotRmsAbvGrd     False\n",
      "Functional        True\n",
      "Fireplaces       False\n",
      "FireplaceQu       True\n",
      "GarageType        True\n",
      "GarageYrBlt       True\n",
      "GarageFinish      True\n",
      "GarageCars        True\n",
      "GarageArea        True\n",
      "GarageQual        True\n",
      "GarageCond        True\n",
      "PavedDrive       False\n",
      "WoodDeckSF       False\n",
      "OpenPorchSF      False\n",
      "EnclosedPorch    False\n",
      "3SsnPorch        False\n",
      "ScreenPorch      False\n",
      "PoolArea         False\n",
      "PoolQC            True\n",
      "Fence             True\n",
      "MiscFeature       True\n",
      "MiscVal          False\n",
      "MoSold           False\n",
      "YrSold           False\n",
      "SaleType          True\n",
      "SaleCondition    False\n",
      "Length: 79, dtype: bool\n"
     ]
    }
   ],
   "source": [
    "# get nan cols and proprtion of nans, sorted descending\n",
    "def takeSecond(elem):\n",
    "    return elem[1]\n",
    "test= sorted(ds_utils.get_nan_col_proportions(df), key=takeSecond, reverse =True)\n",
    "print(test)\n",
    "\n",
    "print(df.isnull().any())"
   ]
  },
  {
   "cell_type": "markdown",
   "metadata": {},
   "source": [
    "# Add more variables"
   ]
  },
  {
   "cell_type": "code",
   "execution_count": 3,
   "metadata": {},
   "outputs": [],
   "source": [
    "df = ds_utils.adjust_skewness(df)\n",
    "\n",
    "df['Residential'] = df['MSZoning'].astype(str).str.strip().str[0]\n",
    "df[\"Residential\"] = df['Residential'].apply(lambda x: 1 if x == \"R\" else 0)\n",
    "\n",
    "df['Utilities'] = df['Utilities'].str.strip()\n",
    "\n",
    "df[\"Electricity\"] = df['Utilities'].apply(lambda x: 1 if (x == \"AllPub\") or (x==\"NoSewr\") or (x==\"NoSewa\") or (x==\"ELO\") else 0)\n",
    "df[\"Gas\"] = df['Utilities'].apply(lambda x: 0 if x == \"ELO\" else 1)\n",
    "df[\"Water\"] = df['Utilities'].apply(lambda x: 0 if (x == \"NoSeWa\") or (x == \"ELO\")  else 1)\n",
    "df[\"Sewage\"] = df['Utilities'].apply(lambda x: 1 if x == \"AllPub\" else 0)\n"
   ]
  },
  {
   "cell_type": "markdown",
   "metadata": {},
   "source": [
    "### Filling in NaN/Missing Values"
   ]
  },
  {
   "cell_type": "code",
   "execution_count": 4,
   "metadata": {},
   "outputs": [],
   "source": [
    "# categorical with defined NaN\n",
    "df[\"PoolQC\"] = df[\"PoolQC\"].fillna(0)\n",
    "df[\"MiscFeature\"] = df[\"MiscFeature\"].fillna(0)\n",
    "df[\"Alley\"] = df[\"Alley\"].fillna(0)\n",
    "df[\"Fence\"] = df[\"Fence\"].fillna(0)\n",
    "df[\"FireplaceQu\"] = df[\"FireplaceQu\"].fillna(0)\n",
    "df[\"GarageQual\"] = df[\"GarageQual\"].fillna(0)\n",
    "df[\"GarageCond\"] = df[\"GarageCond\"].fillna(0)\n",
    "df[\"GarageType\"] = df[\"GarageType\"].fillna(0)\n",
    "df[\"GarageFinish\"] = df[\"GarageFinish\"].fillna(0)\n",
    "df[\"BsmtCond\"] = df[\"BsmtCond\"].fillna(0)\n",
    "df[\"BsmtExposure\"] = df[\"BsmtExposure\"].fillna(0)\n",
    "df[\"BsmtQual\"] = df[\"BsmtQual\"].fillna(0)\n",
    "df[\"BsmtFinType2\"] = df[\"BsmtFinType2\"].fillna(0)\n",
    "df[\"BsmtFinType1\"] = df[\"BsmtFinType1\"].fillna(0)\n",
    "\n",
    "\n",
    "# numerical \n",
    "df[\"LotFrontage\"] = df[\"LotFrontage\"].fillna(df[\"LotFrontage\"].mode()[0], inplace=True) #lotarea\n",
    "df[\"MasVnrArea\"] = df[\"MasVnrArea\"].fillna(df[\"MasVnrArea\"].mode()[0], inplace=True) #overallqual\n",
    "df[\"GarageYrBlt\"] = df[\"GarageYrBlt\"].fillna(df[\"GarageYrBlt\"].mode()[0], inplace=True) #yearbuilt\n",
    "df[\"BsmtUnfSF\"] = df[\"BsmtUnfSF\"].fillna(df[\"BsmtUnfSF\"].mode()[0], inplace=True) #bsmtfinSF1*; totalbsmtsf\n",
    "df[\"TotalBsmtSF\"] = df[\"TotalBsmtSF\"].fillna(df[\"TotalBsmtSF\"].mode()[0], inplace=True) #1stflrSF*; overallqual; remove this column bc high correlation\n",
    "df[\"GarageCars\"] = df[\"GarageCars\"].fillna(df[\"GarageCars\"].mode()[0], inplace=True) #remove bc highly correlated to garagearea\n",
    "df[\"GarageArea\"] = df[\"GarageArea\"].fillna(df[\"GarageArea\"].mode()[0], inplace=True) #overallqual\n",
    "df[\"BsmtFinSF1\"] = df[\"BsmtFinSF1\"].fillna(df[\"BsmtFinSF1\"].mode()[0], inplace=True) #bsmtfullbath; might remove high corr\n",
    "df[\"BsmtFinSF2\"] = df[\"BsmtFinSF2\"].fillna(df[\"BsmtFinSF2\"].mode()[0], inplace=True) #bsmtunfsf; remove\n",
    "\n",
    "\n",
    "# categorical without nan definition  \n",
    "df[\"MasVnrType\"] = df[\"MasVnrType\"].fillna(df[\"MasVnrType\"].mode()[0], inplace=True)\n",
    "df[\"MSZoning\"] = df[\"MSZoning\"].fillna(df[\"MSZoning\"].mode()[0], inplace=True)\n",
    "df[\"Utilities\"] = df[\"Utilities\"].fillna(df[\"Utilities\"].mode()[0], inplace=True)\n",
    "df[\"BsmtFullBath\"] = df[\"BsmtFullBath\"].fillna(df[\"BsmtFullBath\"].mode()[0], inplace=True)\n",
    "df[\"BsmtHalfBath\"] = df[\"BsmtHalfBath\"].fillna(df[\"BsmtHalfBath\"].mode()[0], inplace=True)\n",
    "df[\"Functional\"] = df[\"Functional\"].fillna(df[\"Functional\"].mode()[0], inplace=True)\n",
    "df[\"Exterior1st\"] = df[\"Exterior1st\"].fillna(df[\"Exterior1st\"].mode()[0], inplace=True)\n",
    "df[\"Exterior2nd\"] = df[\"Exterior2nd\"].fillna(df[\"Exterior2nd\"].mode()[0], inplace=True)\n",
    "df[\"Electrical\"] = df[\"Electrical\"].fillna(df[\"Electrical\"].mode()[0], inplace=True)\n",
    "df[\"KitchenQual\"] = df[\"KitchenQual\"].fillna(df[\"KitchenQual\"].mode()[0], inplace=True)\n",
    "df[\"SaleType\"] = df[\"SaleType\"].fillna(df[\"SaleType\"].mode()[0], inplace=True)\n",
    "\n",
    "\n",
    "#one-hot encoding on categorical\n",
    "columns = list(df.select_dtypes(include=['object']))\n",
    "\n",
    "for column in columns:\n",
    "    df[column] = df[column].astype('category')\n",
    "    df[column] = df[column].cat.codes\n",
    "    \n",
    "#Drop\n",
    "#df=df.drop(columns=[\"TotalBsmtSF\",\"GarageCars\"])\n",
    "#Fix numerical\n",
    "#df[\"GarageCars\"] = df['Gara'].apply(lambda x: 1912.333 - x).astype(int)\n",
    "#ds_utils.print_moderate_correlations(df, \"LotFrontage\")\n",
    "\n",
    "\n",
    "# # Create correlation matrix\n",
    "# corr_matrix = df.corr().abs()\n",
    "\n",
    "# # Select upper triangle of correlation matrix\n",
    "# upper = corr_matrix.where(np.triu(np.ones(corr_matrix.shape), k=1).astype(np.bool))\n",
    "\n",
    "# # Find features with correlation greater than 0.7\n",
    "# to_drop = [column for column in upper.columns if any(upper[column] > 0.7)]\n",
    "\n",
    "# # Drop highly correlated features \n",
    "# df = df.drop(columns = to_drop)\n"
   ]
  },
  {
   "cell_type": "markdown",
   "metadata": {},
   "source": [
    "## Separating clean train and test"
   ]
  },
  {
   "cell_type": "code",
   "execution_count": 5,
   "metadata": {},
   "outputs": [],
   "source": [
    "df_train = df[:train_num].copy()\n",
    "df_train['Survived'] = y\n",
    "df_test = df[train_num:].copy()\n",
    "\n",
    "df_train.to_csv('clean_train.csv', index=False)\n",
    "df_test.to_csv('clean_test.csv', index=False)"
   ]
  },
  {
   "cell_type": "code",
   "execution_count": 6,
   "metadata": {},
   "outputs": [
    {
     "name": "stdout",
     "output_type": "stream",
     "text": [
      "(1460, 85)\n",
      "(1459, 84)\n"
     ]
    }
   ],
   "source": [
    "print(df_train.shape)\n",
    "print(df_test.shape)"
   ]
  },
  {
   "cell_type": "code",
   "execution_count": null,
   "metadata": {},
   "outputs": [],
   "source": []
  }
 ],
 "metadata": {
  "kernelspec": {
   "display_name": "Python 3",
   "language": "python",
   "name": "python3"
  },
  "language_info": {
   "codemirror_mode": {
    "name": "ipython",
    "version": 3
   },
   "file_extension": ".py",
   "mimetype": "text/x-python",
   "name": "python",
   "nbconvert_exporter": "python",
   "pygments_lexer": "ipython3",
   "version": "3.7.1"
  }
 },
 "nbformat": 4,
 "nbformat_minor": 2
}
